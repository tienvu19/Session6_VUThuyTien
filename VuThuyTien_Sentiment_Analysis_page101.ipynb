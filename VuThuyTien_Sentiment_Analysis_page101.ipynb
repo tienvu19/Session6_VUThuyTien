{
  "nbformat": 4,
  "nbformat_minor": 0,
  "metadata": {
    "colab": {
      "provenance": []
    },
    "kernelspec": {
      "name": "python3",
      "display_name": "Python 3"
    },
    "language_info": {
      "name": "python"
    }
  },
  "cells": [
    {
      "cell_type": "markdown",
      "metadata": {
        "id": "270db512"
      },
      "source": [
        "**Importing + Installing Libraries + Loading data file:**"
      ]
    },
    {
      "cell_type": "code",
      "execution_count": 8,
      "metadata": {
        "colab": {
          "base_uri": "https://localhost:8080/"
        },
        "id": "LmB20Sd7F5AJ",
        "outputId": "e080f715-35ff-4f53-9ba1-0e02b8852407"
      },
      "outputs": [
        {
          "output_type": "stream",
          "name": "stdout",
          "text": [
            "Requirement already satisfied: transformers in /usr/local/lib/python3.11/dist-packages (4.53.0)\n",
            "Requirement already satisfied: filelock in /usr/local/lib/python3.11/dist-packages (from transformers) (3.18.0)\n",
            "Requirement already satisfied: huggingface-hub<1.0,>=0.30.0 in /usr/local/lib/python3.11/dist-packages (from transformers) (0.33.1)\n",
            "Requirement already satisfied: numpy>=1.17 in /usr/local/lib/python3.11/dist-packages (from transformers) (2.0.2)\n",
            "Requirement already satisfied: packaging>=20.0 in /usr/local/lib/python3.11/dist-packages (from transformers) (24.2)\n",
            "Requirement already satisfied: pyyaml>=5.1 in /usr/local/lib/python3.11/dist-packages (from transformers) (6.0.2)\n",
            "Requirement already satisfied: regex!=2019.12.17 in /usr/local/lib/python3.11/dist-packages (from transformers) (2024.11.6)\n",
            "Requirement already satisfied: requests in /usr/local/lib/python3.11/dist-packages (from transformers) (2.32.3)\n",
            "Requirement already satisfied: tokenizers<0.22,>=0.21 in /usr/local/lib/python3.11/dist-packages (from transformers) (0.21.2)\n",
            "Requirement already satisfied: safetensors>=0.4.3 in /usr/local/lib/python3.11/dist-packages (from transformers) (0.5.3)\n",
            "Requirement already satisfied: tqdm>=4.27 in /usr/local/lib/python3.11/dist-packages (from transformers) (4.67.1)\n",
            "Requirement already satisfied: fsspec>=2023.5.0 in /usr/local/lib/python3.11/dist-packages (from huggingface-hub<1.0,>=0.30.0->transformers) (2025.3.2)\n",
            "Requirement already satisfied: typing-extensions>=3.7.4.3 in /usr/local/lib/python3.11/dist-packages (from huggingface-hub<1.0,>=0.30.0->transformers) (4.14.0)\n",
            "Requirement already satisfied: hf-xet<2.0.0,>=1.1.2 in /usr/local/lib/python3.11/dist-packages (from huggingface-hub<1.0,>=0.30.0->transformers) (1.1.5)\n",
            "Requirement already satisfied: charset-normalizer<4,>=2 in /usr/local/lib/python3.11/dist-packages (from requests->transformers) (3.4.2)\n",
            "Requirement already satisfied: idna<4,>=2.5 in /usr/local/lib/python3.11/dist-packages (from requests->transformers) (3.10)\n",
            "Requirement already satisfied: urllib3<3,>=1.21.1 in /usr/local/lib/python3.11/dist-packages (from requests->transformers) (2.4.0)\n",
            "Requirement already satisfied: certifi>=2017.4.17 in /usr/local/lib/python3.11/dist-packages (from requests->transformers) (2025.6.15)\n"
          ]
        }
      ],
      "source": [
        "!pip install transformers"
      ]
    },
    {
      "cell_type": "code",
      "source": [
        "from transformers import pipeline\n",
        "import pandas as pd\n",
        "import re\n",
        "\n",
        "df = pd.read_csv(\"tweets-data.csv\").sample(500, random_state=42)"
      ],
      "metadata": {
        "id": "bKXkNW5oG7NM"
      },
      "execution_count": 9,
      "outputs": []
    },
    {
      "cell_type": "markdown",
      "metadata": {
        "id": "4010fc2f"
      },
      "source": [
        "**Defining + Applying Stop Words and Cleaning Function:**"
      ]
    },
    {
      "cell_type": "code",
      "source": [
        "stop_words = set([\"the\", \"and\", \"is\", \"in\", \"to\", \"of\", \"for\", \"that\", \"on\", \"with\", \"as\", \"this\", \"it\", \"at\", \"be\", \"are\", \"was\", \"from\", \"by\", \"an\"])\n",
        "def clean_text(text):\n",
        "    text = re.sub(r\"http\\S+|@\\S+|#\\S+|RT\", \"\", str(text))\n",
        "    text = re.sub(r\"[^\\w\\s]\", \"\", text.lower())\n",
        "    tokens = [t for t in text.split() if t not in stop_words and len(t) > 2]\n",
        "    return \" \".join(tokens)\n",
        "\n",
        "df[\"Cleaned_Tweet\"] = df[\"Tweets\"].apply(clean_text)"
      ],
      "metadata": {
        "id": "mcUCM6XnKBwx"
      },
      "execution_count": null,
      "outputs": []
    },
    {
      "cell_type": "markdown",
      "metadata": {
        "id": "5c575a23"
      },
      "source": [
        "**Performing Sentiment Analysis:**"
      ]
    },
    {
      "cell_type": "code",
      "source": [
        "sentiment_classifier = pipeline('sentiment-analysis')\n",
        "results = sentiment_classifier(df[\"Cleaned_Tweet\"].tolist(), truncation=True)"
      ],
      "metadata": {
        "id": "QU-ROXerKT8W"
      },
      "execution_count": null,
      "outputs": []
    },
    {
      "cell_type": "markdown",
      "metadata": {
        "id": "c8b78b5d"
      },
      "source": [
        "**Adding Sentiment Results to DataFrame:**"
      ]
    },
    {
      "cell_type": "code",
      "source": [
        "df[\"Transformer_Label\"] = [r[\"label\"] for r in results]\n",
        "df[\"Transformer_Score\"] = [r[\"score\"] for r in results]"
      ],
      "metadata": {
        "id": "DTdNXLH2Kerk"
      },
      "execution_count": null,
      "outputs": []
    },
    {
      "cell_type": "markdown",
      "metadata": {
        "id": "fcc5991d"
      },
      "source": [
        "**Saving and Displaying Results:**"
      ]
    },
    {
      "cell_type": "code",
      "source": [
        "df.to_csv(\"tweets_with_transformers_sentiment.csv\", index=False)\n",
        "df[[\"Cleaned_Tweet\", \"Transformer_Label\", \"Transformer_Score\"]].head()"
      ],
      "metadata": {
        "id": "U7Lkrht_Khit"
      },
      "execution_count": null,
      "outputs": []
    }
  ]
}